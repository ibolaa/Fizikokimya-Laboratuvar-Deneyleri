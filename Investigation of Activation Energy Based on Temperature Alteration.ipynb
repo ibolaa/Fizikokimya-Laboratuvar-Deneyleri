{
 "cells": [
  {
   "cell_type": "code",
   "execution_count": 3,
   "metadata": {},
   "outputs": [],
   "source": [
    "import pandas as pd\n",
    "import numpy as np\n",
    "import matplotlib.pyplot as plt\n",
    "import seaborn as sns"
   ]
  },
  {
   "cell_type": "code",
   "execution_count": 4,
   "metadata": {},
   "outputs": [
    {
     "data": {
      "text/html": [
       "<div>\n",
       "<style scoped>\n",
       "    .dataframe tbody tr th:only-of-type {\n",
       "        vertical-align: middle;\n",
       "    }\n",
       "\n",
       "    .dataframe tbody tr th {\n",
       "        vertical-align: top;\n",
       "    }\n",
       "\n",
       "    .dataframe thead th {\n",
       "        text-align: right;\n",
       "    }\n",
       "</style>\n",
       "<table border=\"1\" class=\"dataframe\">\n",
       "  <thead>\n",
       "    <tr style=\"text-align: right;\">\n",
       "      <th></th>\n",
       "      <th>k</th>\n",
       "      <th>ln(-1/Δt)</th>\n",
       "      <th>1/k</th>\n",
       "    </tr>\n",
       "  </thead>\n",
       "  <tbody>\n",
       "    <tr>\n",
       "      <th>0</th>\n",
       "      <td>3.5971</td>\n",
       "      <td>-0.3285</td>\n",
       "      <td>0.003597</td>\n",
       "    </tr>\n",
       "    <tr>\n",
       "      <th>1</th>\n",
       "      <td>3.4965</td>\n",
       "      <td>-0.8675</td>\n",
       "      <td>0.003497</td>\n",
       "    </tr>\n",
       "    <tr>\n",
       "      <th>2</th>\n",
       "      <td>3.3557</td>\n",
       "      <td>-1.5141</td>\n",
       "      <td>0.003356</td>\n",
       "    </tr>\n",
       "    <tr>\n",
       "      <th>3</th>\n",
       "      <td>3.2467</td>\n",
       "      <td>-1.7147</td>\n",
       "      <td>0.003247</td>\n",
       "    </tr>\n",
       "  </tbody>\n",
       "</table>\n",
       "</div>"
      ],
      "text/plain": [
       "        k  ln(-1/Δt)       1/k\n",
       "0  3.5971    -0.3285  0.003597\n",
       "1  3.4965    -0.8675  0.003497\n",
       "2  3.3557    -1.5141  0.003356\n",
       "3  3.2467    -1.7147  0.003247"
      ]
     },
     "execution_count": 4,
     "metadata": {},
     "output_type": "execute_result"
    }
   ],
   "source": [
    "k = [3.5971,3.4965,3.3557,3.2467]\n",
    "ln = [-0.3285,-0.8675,-1.5141,-1.7147]\n",
    "df = pd.DataFrame({'k': k, 'ln(-1/Δt)': ln})\n",
    "df[\"1/k\"] = df[\"k\"].apply(lambda x: x*(10**-3))\n",
    "df"
   ]
  },
  {
   "cell_type": "code",
   "execution_count": 14,
   "metadata": {},
   "outputs": [
    {
     "name": "stdout",
     "output_type": "stream",
     "text": [
      "y = 4033.5400821423923 * x + -14.917041241255555\n",
      "SI unit of Activation Energy is: 8014.644143216934 cal/mol.L\n",
      "cgs unit of Activation Energy is: 33534.85224293185 J/mol.L\n"
     ]
    },
    {
     "data": {
      "text/plain": [
       "Text(0, 0.5, '1/k')"
      ]
     },
     "execution_count": 14,
     "metadata": {},
     "output_type": "execute_result"
    },
    {
     "data": {
      "image/png": "[encoded data removed]",
      "text/plain": [
       "<Figure size 640x480 with 1 Axes>"
      ]
     },
     "metadata": {},
     "output_type": "display_data"
    }
   ],
   "source": [
    "line_feat = np.polyfit(df[\"1/k\"],df[\"ln(-1/Δt)\"],1)\n",
    "print(\"y = {m} * x + {b}\".format(m=line_feat[0], b=line_feat[1]))\n",
    "print(\"SI unit of Activation Energy is: {Ea} cal/mol.L\".format(Ea = line_feat[0]*1.987))\n",
    "print(\"cgs unit of Activation Energy is: {Ea} J/mol.L\".format(Ea = line_feat[0]*8.314))\n",
    "sns.regplot(x=df[\"1/k\"], y=df[\"ln(-1/Δt)\"].tolist(), data=df, color=\"red\", marker=\"+\",scatter_kws={\"s\": 30}, line_kws={\"linewidth\": 0.5}, ci=None, truncate=True, order=1)\n",
    "\n",
    "plt.grid(axis=\"both\",    which=\"both\",    color=\"black\",    linestyle=\"-\",linewidth=0.5)\n",
    "\n",
    "plt.xlim(0.0032,0.00365)\n",
    "plt.ylim(-2,-0.2)\n",
    "\n",
    "plt.xticks(np.arange(0.0032,0.00365,step=0.00009))\n",
    "\n",
    "plt.xlabel(\"ln(-1/Δt)\")\n",
    "plt.ylabel(\"1/k\")"
   ]
  }
 ],
 "metadata": {
  "kernelspec": {
   "display_name": "py110",
   "language": "python",
   "name": "python3"
  },
  "language_info": {
   "codemirror_mode": {
    "name": "ipython",
    "version": 3
   },
   "file_extension": ".py",
   "mimetype": "text/x-python",
   "name": "python",
   "nbconvert_exporter": "python",
   "pygments_lexer": "ipython3",
   "version": "3.11.0"
  },
  "orig_nbformat": 4,
  "vscode": {
   "interpreter": {
    "hash": "2df379e23035d668efa607f511c81b28d967f49897a780dc7e467fec644d62fa"
   }
  }
 },
 "nbformat": 4,
 "nbformat_minor": 2
}
