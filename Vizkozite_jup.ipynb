{
 "cells": [
  {
   "cell_type": "code",
   "execution_count": 372,
   "metadata": {},
   "outputs": [],
   "source": [
    "import numpy as np\n",
    "import pandas as pd\n",
    "import matplotlib.pyplot as plt\n",
    "import seaborn as sns"
   ]
  },
  {
   "cell_type": "code",
   "execution_count": 373,
   "metadata": {},
   "outputs": [
    {
     "data": {
      "text/html": [
       "<div>\n",
       "<style scoped>\n",
       "    .dataframe tbody tr th:only-of-type {\n",
       "        vertical-align: middle;\n",
       "    }\n",
       "\n",
       "    .dataframe tbody tr th {\n",
       "        vertical-align: top;\n",
       "    }\n",
       "\n",
       "    .dataframe thead th {\n",
       "        text-align: right;\n",
       "    }\n",
       "</style>\n",
       "<table border=\"1\" class=\"dataframe\">\n",
       "  <thead>\n",
       "    <tr style=\"text-align: right;\">\n",
       "      <th></th>\n",
       "      <th>bottle_h (cm)</th>\n",
       "      <th>tube_r (cm)</th>\n",
       "      <th>tube_l (cm)</th>\n",
       "      <th>t (s)</th>\n",
       "      <th>d (g/cm³)</th>\n",
       "      <th>g (cm/s2)</th>\n",
       "      <th>volume out (ml)</th>\n",
       "    </tr>\n",
       "  </thead>\n",
       "  <tbody>\n",
       "    <tr>\n",
       "      <th>0</th>\n",
       "      <td>11</td>\n",
       "      <td>?</td>\n",
       "      <td>20.5</td>\n",
       "      <td>77</td>\n",
       "      <td>1</td>\n",
       "      <td>981.0</td>\n",
       "      <td>2</td>\n",
       "    </tr>\n",
       "    <tr>\n",
       "      <th>1</th>\n",
       "      <td>9</td>\n",
       "      <td>?</td>\n",
       "      <td>20.5</td>\n",
       "      <td>115</td>\n",
       "      <td>1</td>\n",
       "      <td>981.0</td>\n",
       "      <td>2</td>\n",
       "    </tr>\n",
       "    <tr>\n",
       "      <th>2</th>\n",
       "      <td>7</td>\n",
       "      <td>?</td>\n",
       "      <td>20.5</td>\n",
       "      <td>194</td>\n",
       "      <td>1</td>\n",
       "      <td>981.0</td>\n",
       "      <td>2</td>\n",
       "    </tr>\n",
       "    <tr>\n",
       "      <th>3</th>\n",
       "      <td>5</td>\n",
       "      <td>?</td>\n",
       "      <td>20.5</td>\n",
       "      <td>650</td>\n",
       "      <td>1</td>\n",
       "      <td>981.0</td>\n",
       "      <td>2</td>\n",
       "    </tr>\n",
       "  </tbody>\n",
       "</table>\n",
       "</div>"
      ],
      "text/plain": [
       "  bottle_h (cm) tube_r (cm) tube_l (cm) t (s) d (g/cm³) g (cm/s2)  \\\n",
       "0            11           ?        20.5    77         1     981.0   \n",
       "1             9           ?        20.5   115         1     981.0   \n",
       "2             7           ?        20.5   194         1     981.0   \n",
       "3             5           ?        20.5   650         1     981.0   \n",
       "\n",
       "  volume out (ml)  \n",
       "0               2  \n",
       "1               2  \n",
       "2               2  \n",
       "3               2  "
      ]
     },
     "execution_count": 373,
     "metadata": {},
     "output_type": "execute_result"
    }
   ],
   "source": [
    "#data\n",
    "bottle_h = [11,9,7,5]\n",
    "t = [77,115,194,650]\n",
    "#P = [107.91,88.29,68.67,49.05]\n",
    "\n",
    "#constants\n",
    "tube_r = ['?','?','?','?']\n",
    "tube_l = [20.5,20.5,20.5,20.5]\n",
    "d = [1,1,1,1]\n",
    "g = [9.81,9.81,9.81,9.81]\n",
    "vol = [2,2,2,2]\n",
    "\n",
    "#df\n",
    "data = (bottle_h,tube_r,tube_l,t,d,g,vol)\n",
    "df = pd.DataFrame(data)\n",
    "df = df.transpose()\n",
    "\n",
    "df.columns = ['bottle_h (cm)', 'tube_r (cm)', 'tube_l (cm)','t (s)','d (g/cm³)', 'g (cm/s2)', 'volume out (ml)']\n",
    "\n",
    "df['g (cm/s2)'] = df['g (cm/s2)'] * 100                                                    #unit system convertion\n",
    "df"
   ]
  },
  {
   "cell_type": "code",
   "execution_count": 374,
   "metadata": {},
   "outputs": [
    {
     "data": {
      "text/html": [
       "<div>\n",
       "<style scoped>\n",
       "    .dataframe tbody tr th:only-of-type {\n",
       "        vertical-align: middle;\n",
       "    }\n",
       "\n",
       "    .dataframe tbody tr th {\n",
       "        vertical-align: top;\n",
       "    }\n",
       "\n",
       "    .dataframe thead th {\n",
       "        text-align: right;\n",
       "    }\n",
       "</style>\n",
       "<table border=\"1\" class=\"dataframe\">\n",
       "  <thead>\n",
       "    <tr style=\"text-align: right;\">\n",
       "      <th></th>\n",
       "      <th>bottle_h (cm)</th>\n",
       "      <th>tube_r (cm)</th>\n",
       "      <th>tube_l (cm)</th>\n",
       "      <th>t (s)</th>\n",
       "      <th>d (g/cm³)</th>\n",
       "      <th>g (cm/s2)</th>\n",
       "      <th>volume out (ml)</th>\n",
       "      <th>P (kPa)</th>\n",
       "      <th>v/t (ml/s)</th>\n",
       "    </tr>\n",
       "  </thead>\n",
       "  <tbody>\n",
       "    <tr>\n",
       "      <th>0</th>\n",
       "      <td>11</td>\n",
       "      <td>0.240571</td>\n",
       "      <td>20.5</td>\n",
       "      <td>77</td>\n",
       "      <td>1</td>\n",
       "      <td>981.0</td>\n",
       "      <td>2</td>\n",
       "      <td>10791.0</td>\n",
       "      <td>0.025974</td>\n",
       "    </tr>\n",
       "    <tr>\n",
       "      <th>1</th>\n",
       "      <td>9</td>\n",
       "      <td>0.240571</td>\n",
       "      <td>20.5</td>\n",
       "      <td>115</td>\n",
       "      <td>1</td>\n",
       "      <td>981.0</td>\n",
       "      <td>2</td>\n",
       "      <td>8829.0</td>\n",
       "      <td>0.017391</td>\n",
       "    </tr>\n",
       "    <tr>\n",
       "      <th>2</th>\n",
       "      <td>7</td>\n",
       "      <td>0.240571</td>\n",
       "      <td>20.5</td>\n",
       "      <td>194</td>\n",
       "      <td>1</td>\n",
       "      <td>981.0</td>\n",
       "      <td>2</td>\n",
       "      <td>6867.0</td>\n",
       "      <td>0.010309</td>\n",
       "    </tr>\n",
       "    <tr>\n",
       "      <th>3</th>\n",
       "      <td>5</td>\n",
       "      <td>0.240571</td>\n",
       "      <td>20.5</td>\n",
       "      <td>650</td>\n",
       "      <td>1</td>\n",
       "      <td>981.0</td>\n",
       "      <td>2</td>\n",
       "      <td>4905.0</td>\n",
       "      <td>0.003077</td>\n",
       "    </tr>\n",
       "  </tbody>\n",
       "</table>\n",
       "</div>"
      ],
      "text/plain": [
       "  bottle_h (cm)  tube_r (cm) tube_l (cm) t (s) d (g/cm³) g (cm/s2)  \\\n",
       "0            11     0.240571        20.5    77         1     981.0   \n",
       "1             9     0.240571        20.5   115         1     981.0   \n",
       "2             7     0.240571        20.5   194         1     981.0   \n",
       "3             5     0.240571        20.5   650         1     981.0   \n",
       "\n",
       "  volume out (ml)  P (kPa) v/t (ml/s)  \n",
       "0               2  10791.0   0.025974  \n",
       "1               2   8829.0   0.017391  \n",
       "2               2   6867.0   0.010309  \n",
       "3               2   4905.0   0.003077  "
      ]
     },
     "execution_count": 374,
     "metadata": {},
     "output_type": "execute_result"
    }
   ],
   "source": [
    "df[\"P (kPa)\"] = df[\"bottle_h (cm)\"] * df[\"d (g/cm³)\"] * df[\"g (cm/s2)\"]                        #pressure\n",
    "\n",
    "df[\"tube_r (cm)\"] = ((df[\"volume out (ml)\"][0]) /(np.pi * df[\"bottle_h (cm)\"][0]))**(1/2)      #tube r\n",
    "\n",
    "df[\"v/t (ml/s)\"] = df[\"volume out (ml)\"] / df[\"t (s)\"]\n",
    "df"
   ]
  },
  {
   "cell_type": "code",
   "execution_count": 375,
   "metadata": {},
   "outputs": [
    {
     "name": "stdout",
     "output_type": "stream",
     "text": [
      "y = 258397.13605283835 * x + 4181.891682342894\n",
      "m is also equal to Epsilon: ε = 258397.13605283835 \n"
     ]
    },
    {
     "data": {
      "text/html": [
       "<div>\n",
       "<style scoped>\n",
       "    .dataframe tbody tr th:only-of-type {\n",
       "        vertical-align: middle;\n",
       "    }\n",
       "\n",
       "    .dataframe tbody tr th {\n",
       "        vertical-align: top;\n",
       "    }\n",
       "\n",
       "    .dataframe thead th {\n",
       "        text-align: right;\n",
       "    }\n",
       "</style>\n",
       "<table border=\"1\" class=\"dataframe\">\n",
       "  <thead>\n",
       "    <tr style=\"text-align: right;\">\n",
       "      <th></th>\n",
       "      <th>P (kPa)</th>\n",
       "      <th>bottle_h (cm)</th>\n",
       "      <th>v/t (ml/s)</th>\n",
       "      <th>Puvaz (Pa.s)</th>\n",
       "      <th>tube_r (cm)</th>\n",
       "    </tr>\n",
       "  </thead>\n",
       "  <tbody>\n",
       "    <tr>\n",
       "      <th>0</th>\n",
       "      <td>10791.0</td>\n",
       "      <td>11</td>\n",
       "      <td>0.025974</td>\n",
       "      <td>16.579392</td>\n",
       "      <td>0.240571</td>\n",
       "    </tr>\n",
       "    <tr>\n",
       "      <th>1</th>\n",
       "      <td>8829.0</td>\n",
       "      <td>9</td>\n",
       "      <td>0.017391</td>\n",
       "      <td>16.579392</td>\n",
       "      <td>0.240571</td>\n",
       "    </tr>\n",
       "    <tr>\n",
       "      <th>2</th>\n",
       "      <td>6867.0</td>\n",
       "      <td>7</td>\n",
       "      <td>0.010309</td>\n",
       "      <td>16.579392</td>\n",
       "      <td>0.240571</td>\n",
       "    </tr>\n",
       "    <tr>\n",
       "      <th>3</th>\n",
       "      <td>4905.0</td>\n",
       "      <td>5</td>\n",
       "      <td>0.003077</td>\n",
       "      <td>16.579392</td>\n",
       "      <td>0.240571</td>\n",
       "    </tr>\n",
       "  </tbody>\n",
       "</table>\n",
       "</div>"
      ],
      "text/plain": [
       "   P (kPa) bottle_h (cm) v/t (ml/s)  Puvaz (Pa.s)  tube_r (cm)\n",
       "0  10791.0            11   0.025974     16.579392     0.240571\n",
       "1   8829.0             9   0.017391     16.579392     0.240571\n",
       "2   6867.0             7   0.010309     16.579392     0.240571\n",
       "3   4905.0             5   0.003077     16.579392     0.240571"
      ]
     },
     "execution_count": 375,
     "metadata": {},
     "output_type": "execute_result"
    }
   ],
   "source": [
    "df[\"p_v_t\"] = df[\"P (kPa)\"] / df[\"v/t (ml/s)\"]\n",
    "\n",
    "line_feat = np.polyfit(df[\"v/t (ml/s)\"].tolist(),df[\"P (kPa)\"].tolist(),1)\n",
    "print(\"y = {m} * x + {b}\".format(m = line_feat[0],b = line_feat[1]))\n",
    "print(\"m is also equal to Epsilon: ε = {m} \".format(m = line_feat[0]))\n",
    "\n",
    "df[\"Puvaz (Pa.s)\"] = (np.pi *df[\"tube_r (cm)\"]**4 * line_feat[0]) / (8 * 20.5)    #should be stable for all conditions\n",
    "c = [\"P (kPa)\",\"bottle_h (cm)\",\"v/t (ml/s)\",\"Puvaz (Pa.s)\",\"tube_r (cm)\"]\n",
    "df = df[c]\n"
   ]
  },
  {
   "cell_type": "code",
   "execution_count": 377,
   "metadata": {},
   "outputs": [
    {
     "data": {
      "text/plain": [
       "Text(0.5, 0, 'V/t (ml/s)')"
      ]
     },
     "execution_count": 377,
     "metadata": {},
     "output_type": "execute_result"
    },
    {
     "data": {
      "image/png": "[encoded data removed]",
      "text/plain": [
       "<Figure size 640x480 with 1 Axes>"
      ]
     },
     "metadata": {},
     "output_type": "display_data"
    }
   ],
   "source": [
    "sns.regplot(x=df[\"v/t (ml/s)\"].tolist(), y=df[\"P (kPa)\"].tolist(), data=df, color=\"red\", marker=\"+\",scatter_kws={\"s\": 30}, line_kws={\"linewidth\": 0.5}, ci=None, truncate=True, order=1)\n",
    "\n",
    "plt.grid(axis=\"both\",    which=\"both\",    color=\"black\",    linestyle=\"-\",linewidth=0.5)\n",
    "\n",
    "plt.xlim(0,0.03)\n",
    "plt.ylim(4000,11000)\n",
    "\n",
    "plt.ylabel(\"P (dyn/cm2)\")\n",
    "plt.xlabel(\"V/t (ml/s)\")"
   ]
  }
 ],
 "metadata": {
  "kernelspec": {
   "display_name": "py110",
   "language": "python",
   "name": "python3"
  },
  "language_info": {
   "codemirror_mode": {
    "name": "ipython",
    "version": 3
   },
   "file_extension": ".py",
   "mimetype": "text/x-python",
   "name": "python",
   "nbconvert_exporter": "python",
   "pygments_lexer": "ipython3",
   "version": "3.11.0"
  },
  "orig_nbformat": 4,
  "vscode": {
   "interpreter": {
    "hash": "2df379e23035d668efa607f511c81b28d967f49897a780dc7e467fec644d62fa"
   }
  }
 },
 "nbformat": 4,
 "nbformat_minor": 2
}
