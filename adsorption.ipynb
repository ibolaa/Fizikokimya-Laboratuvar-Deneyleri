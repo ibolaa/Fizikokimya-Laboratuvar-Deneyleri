{
 "cells": [
  {
   "cell_type": "code",
   "execution_count": 20,
   "metadata": {},
   "outputs": [],
   "source": [
    "import numpy as np\n",
    "import pandas as pd\n",
    "import matplotlib.pyplot as plt\n",
    "import seaborn as sns"
   ]
  },
  {
   "cell_type": "code",
   "execution_count": 21,
   "metadata": {},
   "outputs": [
    {
     "data": {
      "text/html": [
       "<div>\n",
       "<style scoped>\n",
       "    .dataframe tbody tr th:only-of-type {\n",
       "        vertical-align: middle;\n",
       "    }\n",
       "\n",
       "    .dataframe tbody tr th {\n",
       "        vertical-align: top;\n",
       "    }\n",
       "\n",
       "    .dataframe thead th {\n",
       "        text-align: right;\n",
       "    }\n",
       "</style>\n",
       "<table border=\"1\" class=\"dataframe\">\n",
       "  <thead>\n",
       "    <tr style=\"text-align: right;\">\n",
       "      <th></th>\n",
       "      <th>c</th>\n",
       "      <th>cd</th>\n",
       "      <th>qd</th>\n",
       "      <th>lncd</th>\n",
       "      <th>lnqd</th>\n",
       "    </tr>\n",
       "  </thead>\n",
       "  <tbody>\n",
       "    <tr>\n",
       "      <th>0</th>\n",
       "      <td>5</td>\n",
       "      <td>1.650</td>\n",
       "      <td>3.350</td>\n",
       "      <td>0.500775</td>\n",
       "      <td>1.208960</td>\n",
       "    </tr>\n",
       "    <tr>\n",
       "      <th>1</th>\n",
       "      <td>10</td>\n",
       "      <td>2.006</td>\n",
       "      <td>7.994</td>\n",
       "      <td>0.696143</td>\n",
       "      <td>2.078691</td>\n",
       "    </tr>\n",
       "    <tr>\n",
       "      <th>2</th>\n",
       "      <td>15</td>\n",
       "      <td>2.662</td>\n",
       "      <td>12.338</td>\n",
       "      <td>0.979078</td>\n",
       "      <td>2.512684</td>\n",
       "    </tr>\n",
       "    <tr>\n",
       "      <th>3</th>\n",
       "      <td>20</td>\n",
       "      <td>3.269</td>\n",
       "      <td>16.731</td>\n",
       "      <td>1.184484</td>\n",
       "      <td>2.817263</td>\n",
       "    </tr>\n",
       "  </tbody>\n",
       "</table>\n",
       "</div>"
      ],
      "text/plain": [
       "    c     cd      qd      lncd      lnqd\n",
       "0   5  1.650   3.350  0.500775  1.208960\n",
       "1  10  2.006   7.994  0.696143  2.078691\n",
       "2  15  2.662  12.338  0.979078  2.512684\n",
       "3  20  3.269  16.731  1.184484  2.817263"
      ]
     },
     "execution_count": 21,
     "metadata": {},
     "output_type": "execute_result"
    }
   ],
   "source": [
    "data = {\"c\":[5,10,15,20],\"cd\":[1.650,2.006,2.662,3.269]}\n",
    "df = pd.DataFrame(data)\n",
    "df[\"qd\"] = (df[\"c\"] - df[\"cd\"])/1\n",
    "\n",
    "df[\"lncd\"] = df[\"cd\"].apply(lambda x: np.log(x))\n",
    "df[\"lnqd\"] = df[\"qd\"].apply(lambda x: np.log(x))\n",
    "df"
   ]
  },
  {
   "cell_type": "code",
   "execution_count": 22,
   "metadata": {},
   "outputs": [
    {
     "name": "stdout",
     "output_type": "stream",
     "text": [
      "y = 2.227271889951279 * x + 0.2832241429114325\n",
      "According to equation lnqd = (1/n)*lncd + lnk : \n",
      "n = 0.44897976062629463 and k = 1.3274026563713062\n"
     ]
    },
    {
     "data": {
      "image/png": "[encoded data removed]",
      "text/plain": [
       "<Figure size 640x480 with 1 Axes>"
      ]
     },
     "metadata": {},
     "output_type": "display_data"
    }
   ],
   "source": [
    "sns.regplot(x=df[\"lncd\"], y=df[\"lnqd\"], ci=None, scatter_kws={\"s\": 50},line_kws={\"linewidth\": 0.5}, marker=\"+\", color=\"r\", )\n",
    "\n",
    "plt.grid(axis=\"both\", which=\"both\", color=\"black\",linestyle=\"-\", linewidth=0.1)\n",
    "\n",
    "plt.xlim(0.4,1.3)\n",
    "plt.ylim(1,3.25)\n",
    "\n",
    "line_feat = np.polyfit(df[\"lncd\"],df[\"lnqd\"],1)\n",
    "m = line_feat[0]\n",
    "b = line_feat[1]\n",
    "print(\"y = {m} * x + {b}\".format(m = m,b = b))\n",
    "print(\"According to equation lnqd = (1/n)*lncd + lnk : \")\n",
    "print(\"n = {num} and k = {k}\".format(num=line_feat[0]**-1, k=(np.e)**b))\n"
   ]
  }
 ],
 "metadata": {
  "kernelspec": {
   "display_name": "Python 3 (ipykernel)",
   "language": "python",
   "name": "python3"
  },
  "language_info": {
   "codemirror_mode": {
    "name": "ipython",
    "version": 3
   },
   "file_extension": ".py",
   "mimetype": "text/x-python",
   "name": "python",
   "nbconvert_exporter": "python",
   "pygments_lexer": "ipython3",
   "version": "3.11.0"
  },
  "vscode": {
   "interpreter": {
    "hash": "2df379e23035d668efa607f511c81b28d967f49897a780dc7e467fec644d62fa"
   }
  }
 },
 "nbformat": 4,
 "nbformat_minor": 2
}
